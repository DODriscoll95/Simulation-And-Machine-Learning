{
 "cells": [
  {
   "cell_type": "code",
   "execution_count": null,
   "metadata": {},
   "outputs": [],
   "source": [
    "import numpy as np\n",
    "import matplotlib.pyplot as plt\n",
    "from scipy.stats import norm\n",
    "from BlackScholes import BS_call\n",
    "from Barrier import (volatility, SDE_downandout_put, SDE_downandout_put_ant,SDE_downandout_put_delta)"
   ]
  },
  {
   "cell_type": "markdown",
   "metadata": {},
   "source": [
    "In this section we will we will simulate prices for an asset whos underlying spot price $S(t)$ follows Geometric Brownian Motion with local volatility $\\sigma(S,t)$ which is a function of the spot price and time:\n",
    "\n",
    "$$ dS(t) = rS(t)dt + \\sigma(S_{t},t)S_{t}dW_{t} $$\n",
    "\n",
    "$$ \\sigma(S,t) = \\sigma_0(1 + \\sigma_1Cos(2\\pi))(1+\\sigma_2exp(-S/50))$$\n",
    "\n",
    "where\n",
    "\n",
    "$$\\sigma_0 = 0.2$$\n",
    "$$\\sigma_1 = 0.3$$\n",
    "$$\\sigma_2 = 0.5$$\n",
    "\n",
    "\n",
    "\n"
   ]
  },
  {
   "cell_type": "markdown",
   "metadata": {},
   "source": [
    "We will use this spot price and local volatility to price a certain type of barrier option known as a down-and-out put option. This added complexity of a changing volatility rate will closer replicate real world scenarios in which market forces such as volatility are not consant.\n",
    "\n",
    "A down-and-out put option is a path dependent option whos payoff depends on if the value of underlying asset $S_t$ surpasses or does not surpass a specified barrier $S_b$ before expiry, given by the following payoff, with $K$ denoting the strike price of the option:\n",
    "\n",
    "$$\\begin{cases}\n",
    "  max(K - S_{T},0), = \\text {if  }  \\min_t S_t > S_b\\\\    \n",
    "  0,  \\qquad \\qquad \\qquad \\, \\text {if }  \\min_t S_t \\leq S_b\n",
    "\\end{cases}$$\n",
    "\n",
    "Note that if the barrier $S_b$ is equal to zero the payoff is exactly the same as a vanilla european put option."
   ]
  },
  {
   "cell_type": "markdown",
   "metadata": {},
   "source": [
    "We will price the option initally with the following parameters:\n",
    "<br>\n",
    "$K$ = £50 <br>\n",
    "$T$ = 1 year <br>\n",
    "$r$ = 0.05 <br>\n",
    "$t$ = 260, 260 working days in a year. Where we Euler time step by 1 day. <br>\n",
    "$N$ = 5000, the number of sample paths used when pricing $S(t))$"
   ]
  },
  {
   "cell_type": "code",
   "execution_count": null,
   "metadata": {},
   "outputs": [],
   "source": [
    "#Setting Parameter Values\n",
    "\n",
    "sigma_0 = 0.2\n",
    "sigma_1 = 0.3\n",
    "sigma_2 = 0.5\n",
    "\n",
    "#S0 = 45\n",
    "K = 50\n",
    "T = 1\n",
    "r = 0.05\n",
    "t = 260\n",
    "Sb = 30\n",
    "Nsteps = int(t * T) \n",
    "Npaths = 5000 \n"
   ]
  },
  {
   "cell_type": "code",
   "execution_count": null,
   "metadata": {},
   "outputs": [],
   "source": [
    "#Running naive montecarlo for asset prices from S = 30 to S = 100 in steps of 5 for an inital 5000 simulated paths\n",
    "#paths for the stock price S(T)\n",
    "\n",
    "# S_plot = array of stock prices ranging from 30 to 100 inclusive in steps of 5\n",
    "S_plot = np.arange(30,100,1)\n",
    "\n",
    "#Npts is equal to the number of stock prices we will calculate the price of the barrier option for\n",
    "Npts = len(S_plot)\n",
    "\n",
    "#Setting empty arrays for which the monte carlo prices and variances will be stored in for corresponding stock prices\n",
    "MC = np.zeros(Npts)\n",
    "var = np.zeros(Npts)\n",
    "\n",
    "# Running 5000 simulations for each stock price in our S_plot array and calculating the price and variance of each.\n",
    "for k in range(Npts):\n",
    "    MC[k], var[k] =SDE_downandout_put(S_plot[k],Sb,K,T,r,Npaths,sigma_0,sigma_1,sigma_2)\n",
    "    \n",
    "#For illustation purposes we will plot the bull call spread prices with 5000 sims against S before doing anything else.\n",
    "SE = np.sqrt(var/Npaths)\n",
    "plt.plot(S_plot,MC,marker = 'o', linestyle = '-',color = 'r',alpha = 0.45,label = \"Naive\")\n",
    "plt.xlabel(\"Spot price S\")\n",
    "plt.ylabel(\"Bull Call Spread Price\")\n",
    "plt.title(\"Plot of bull call spread price for naive MC method \")\n",
    "plt.legend()\n",
    "plt.show()\n",
    "max_var = np.amax(var)"
   ]
  },
  {
   "cell_type": "markdown",
   "metadata": {},
   "source": [
    "For illustration we will plot the 95% confidence interval for the barrier option using the naive MC method"
   ]
  },
  {
   "cell_type": "code",
   "execution_count": null,
   "metadata": {},
   "outputs": [],
   "source": [
    "# Calculating the 95% confidence interval upper and lower bounds\n",
    "intp = MC + 1.96*SE\n",
    "intm = MC - 1.96*SE\n",
    "\n",
    "#Plotting\n",
    "plt.figure(figsize = (10,7))\n",
    "plt.plot(S_plot,MC, label = \"Naive\")\n",
    "plt.fill_between(S_plot,intp,intm, color = \"darkorange\",alpha = 0.5,label = \"95% CI\")\n",
    "plt.xlabel(\"Spot price S\")\n",
    "plt.ylabel(\"Bull Call Spread Value\")\n",
    "plt.title(\"Plot of bull call spread and 95% CI of naive MC method \")\n",
    "plt.legend()\n",
    "plt.show()"
   ]
  },
  {
   "cell_type": "markdown",
   "metadata": {},
   "source": [
    "### And now repeating using variance reduction using antithetic variance reduction.\n"
   ]
  },
  {
   "cell_type": "code",
   "execution_count": null,
   "metadata": {},
   "outputs": [],
   "source": [
    "#Running naive montecarlo with antithetic for asset prices from S = 10 to S = 200 in steps of 5 for an inital 1000 simulations.\n",
    "# N = number of simulations\n",
    "\n",
    "# S_plot = array of stock prices ranging from 10 to 200 inclusive in steps of 5\n",
    "S_plot = np.arange(30,100,1)\n",
    "\n",
    "#Npts is equal to the number of stock prices we will calculate the price of the bull call spread for\n",
    "Npts = len(S_plot)\n",
    "\n",
    "#Setting empty arrays for which the monte carlo bull call prices variances will be stored in for corresponding stock prices\n",
    "MCa = np.zeros(Npts)\n",
    "vara = np.zeros(Npts)\n",
    "\n",
    "# Running 1000 simulations for each stock price in our S_plot array and calculating the price and variance of each.\n",
    "for k in range(Npts):\n",
    "    MCa[k], vara[k] =SDE_downandout_put_ant(S_plot[k],Sb,K,T,r,Npaths,sigma_0,sigma_1,sigma_2)\n",
    "    \n",
    "#For illustation purposes we will plot the bull call spread prices with 1000sims against S before doing anything else.\n",
    "SE = np.sqrt(vara/Npaths)\n",
    "plt.plot(S_plot,MCa,marker = 'o', linestyle = '-',color = 'r',alpha = 0.45,label = \"Antithetic\")\n",
    "\n",
    "plt.xlabel(\"Spot price S\")\n",
    "plt.ylabel(\"Bull Call Spread Value\")\n",
    "plt.title(\"Plot of bull call spread for Antithetic MC method \")\n",
    "plt.legend()\n",
    "plt.show()\n",
    "\n"
   ]
  },
  {
   "cell_type": "code",
   "execution_count": null,
   "metadata": {},
   "outputs": [],
   "source": [
    "intpa = MCa + 1.96*SE\n",
    "intma = MCa - 1.96*SE\n",
    "plt.figure(figsize = (10,7))\n",
    "plt.plot(S_plot,MCa, label = \"Naive\")\n",
    "plt.fill_between(S_plot,intpa,intma, color = \"darkorange\",alpha = 0.5,label = \"95% CI\")\n",
    "plt.xlabel(\"Spot price S\")\n",
    "plt.ylabel(\"Bull Call Spread Value\")\n",
    "plt.title(\"Plot of bull call spread price for Antithetic MC method \")\n",
    "plt.ylim(0,6)\n",
    "plt.legend()\n",
    "plt.show()"
   ]
  },
  {
   "cell_type": "markdown",
   "metadata": {},
   "source": [
    "#### We note how the shaded region indicating the 95% Confidence interval using antithetic variance reduction is smaller than for the naive method, indicating some variance reduction was achieved"
   ]
  },
  {
   "cell_type": "markdown",
   "metadata": {},
   "source": [
    "#### Now we will investigate the effect of changing the value of the barrier on the option price."
   ]
  },
  {
   "cell_type": "code",
   "execution_count": null,
   "metadata": {},
   "outputs": [],
   "source": [
    "#Setting our list of new barriers\n",
    "Sbs = [0, 7, 15, 30, 49]\n",
    "m = len(Sbs)\n",
    "q = np.arange(0,m,1)\n",
    "S_plot = np.arange(0.1,100,1)\n",
    "\n",
    "#Npts is equal to the number of stock prices we will calculate the price of the bull call spread for\n",
    "Npts = len(S_plot)\n",
    "\n",
    "#Setting empty arrays for which the monte carlo bull call prices variances will be stored in for corresponding stock prices\n",
    "MC = np.zeros([Npts,m], dtype = 'object')\n",
    "var = np.zeros([Npts,m],dtype = 'object')\n",
    "\n",
    "\n",
    "#Calculating Option Prices for different barriers and plotting:\n",
    "for i in q:\n",
    "    Sb = Sbs[i]\n",
    "    for k in range(Npts):\n",
    "        MC[k,i], var[k,i]= SDE_downandout_put_ant(S_plot[k],Sb,K,T,r,Npaths,sigma_0,sigma_1,sigma_2)\n",
    "#Plotting    \n",
    "    plt.plot(S_plot,MC[:,i], label = 'Sb = ' + str(Sb) +'')\n",
    "plt.xlabel(\"Spot price S\")\n",
    "plt.ylabel(\"Barrier Option Price\")\n",
    "plt.title(\"Plot of barrier option for Antithetic MC for varying barriers \")\n",
    "plt.legend()\n",
    "plt.show()"
   ]
  },
  {
   "cell_type": "markdown",
   "metadata": {},
   "source": [
    "### Delta\n",
    "\n",
    "-------\n",
    "I will calculate the delta of the option using path recycling methods similar to those found in Part 1"
   ]
  },
  {
   "cell_type": "code",
   "execution_count": null,
   "metadata": {},
   "outputs": [],
   "source": [
    "#Running naive montecarlo for asset prices from S = 30 to S = 100 in steps of 5 for an inital 5000 simulated paths\n",
    "#paths for the stock price S(T)\n",
    "\n",
    "# S_plot = array of stock prices ranging from 30 to 100 inclusive in steps of 5\n",
    "Sbs = [7, 15, 30, 49]\n",
    "m = len(Sbs)\n",
    "q = np.arange(0,m,1)\n",
    "S_plot = np.arange(0.1,100,1)\n",
    "\n",
    "#Npts is equal to the number of stock prices we will calculate the price of the bull call spread for\n",
    "Npts = len(S_plot)\n",
    "\n",
    "#Setting empty arrays for which the monte carlo bull call prices variances will be stored in for corresponding stock prices\n",
    "MC = np.zeros([Npts,m], dtype = 'object')\n",
    "var = np.zeros([Npts,m],dtype = 'object')\n",
    "\n",
    "\n",
    "#Calculating Option Delta for different barriers and plotting:\n",
    "for i in q:\n",
    "    Sb = Sbs[i]\n",
    "    for k in range(Npts):\n",
    "        MC[k,i], var[k,i]= SDE_downandout_put_delta(S_plot[k],Sb,K,T,r,Npaths,sigma_0,sigma_1,sigma_2)\n",
    "    \n",
    "    plt.plot(S_plot,MC[:,i], label = 'Sb = ' + str(Sb) +'')\n",
    "plt.xlabel(\"Spot price S\")\n",
    "plt.ylabel(\"Barrier Option Spread Price\")\n",
    "plt.title(\"Plot of Barrier Option Delta for Varying Barriers \")\n",
    "plt.legend()\n",
    "plt.show()\n",
    "\n",
    "\n"
   ]
  },
  {
   "cell_type": "markdown",
   "metadata": {},
   "source": [
    "### Disussion"
   ]
  },
  {
   "cell_type": "markdown",
   "metadata": {},
   "source": [
    "The variance reduction achieved using antithetic variance reduction may not be good enough for pricing contracts to be used in a live market making setting as the variances of our prices can be a more than a few basis points, hence we would want a much lower variance by possibly having more iterations which could take more time to achieve, or trying different variance reduction techniques, such as importance sampling or stratified sampling.\n",
    "\n",
    "We note that for calculating the price of the spread the largest variances occur around where the barrier and strike prices are, hence we would maybe like to increase the number of iterations or perhaps use a different kind of variance reduction. \n",
    "\n",
    "\n",
    "We note how the plots of of our delta are somewhat \"rough\" comapared to that of the option prices, so ideally we would simulate more paths when calculating the deltas, or consider a different but more complex method of calculating the delta such as liklihood ratio methods which can be used even if the payoff of the contract is discontinuous. The \"roughness\" in our delta comes from the fact that large changes in delta that can occur from small changes of the spot price especailly around the barrier value.\n",
    "\n",
    "But we note finding the symbolic derivative of this payoff equation along with the evolution of the local volatility would be difficult if we did want to condsider different delta calculation methods."
   ]
  }
 ],
 "metadata": {
  "kernelspec": {
   "display_name": "Python 3",
   "language": "python",
   "name": "python3"
  },
  "language_info": {
   "codemirror_mode": {
    "name": "ipython",
    "version": 3
   },
   "file_extension": ".py",
   "mimetype": "text/x-python",
   "name": "python",
   "nbconvert_exporter": "python",
   "pygments_lexer": "ipython3",
   "version": "3.8.3"
  }
 },
 "nbformat": 4,
 "nbformat_minor": 4
}
