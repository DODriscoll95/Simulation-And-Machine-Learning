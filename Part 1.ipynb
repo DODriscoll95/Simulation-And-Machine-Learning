{
 "cells": [
  {
   "cell_type": "code",
   "execution_count": null,
   "metadata": {},
   "outputs": [],
   "source": [
    "import numpy as np\n",
    "import matplotlib.pyplot as plt\n",
    "import timeit\n",
    "from scipy.stats import norm\n",
    "from BlackScholes import (BS_call, BS_bull_call,BS_bull_call_delta)\n",
    "from MC_bull import (MC_bull_call_naive, MC_bull_call_ant, MC_bull_call_con, MC_bull_call_imp, MC_bull_call_delta_ant_path)\n",
    "from mpl_toolkits.mplot3d import Axes3D  \n",
    "from matplotlib import cm\n",
    "from matplotlib.ticker import LinearLocator, FormatStrFormatter"
   ]
  },
  {
   "cell_type": "markdown",
   "metadata": {},
   "source": [
    "# Pricing the Bull Call Spread using Monte Carlo Methods"
   ]
  },
  {
   "cell_type": "markdown",
   "metadata": {},
   "source": [
    "In the following project we will price and investigate a type of option contract known as a bull call spread using the black-scholes model and various monte carlo methods.\n",
    "\n",
    "In the following project we will simulate 1000 stock price paths for a stock price ranging from £10 to £200 in steps of £5, while assuming constant annual interest rates, $r$ = 3%, and annual volatility, $\\sigma$ = 25%. Using these stock price paths we will price a bull call spread with strike prices $K_{1}$ = £90 and $K_{2}$ = £120, with a time to maturity $T$ of 18 months. Wehere the underlying asset $S(T)$ follows geometric Brownian Motion:\n",
    "\n",
    "$$ dS(t) = rS_tdt + \\sigma S_{t}dW_{t} $$\n",
    "\n",
    "Where the payoff $f(S(T))$ of a bull call spread for a certain stock price $S(T)$ at time $T$ defined as:\n",
    "\n",
    "$$f(S(T)) = max(S(T) - K_{1},0) - max(S(T) - K_{2},0)$$\n",
    "\n",
    "The Bull Call Spread will be priced initially using monte carlo methods without any variance reduction, refered to as the \"naive\" method throughout the project, and will then be priced again using three different variance reduction techniques:\n",
    "1. Antithetic variance reduction\n",
    "2. Use of control variates\n",
    "3. Use of importance sampling\n",
    "\n",
    "From the variances of these simulations, we will deterimine the sample size needed such that the absolute accuracy of the Monte Carlo price is £0.01, with a 95% confidence level, over the range of asset prices.\n",
    "\n",
    "We will also price and plot the delta of this option."
   ]
  },
  {
   "cell_type": "code",
   "execution_count": null,
   "metadata": {},
   "outputs": [],
   "source": [
    "# Setting parameters to be used in bull call spread calculation\n",
    "#S = 110\n",
    "\n",
    "# N = Number of simulations per stock price S\n",
    "N = 1000\n",
    "\n",
    "# Strike Price for the call we buy = K1 = £90, strike price for the call we sell = K2 = £120, \n",
    "K1 = 90\n",
    "K2 = 120\n",
    "\n",
    "#Time measured in years hence 18mths = 1.5yrs\n",
    "T = 1.5 \n",
    "\n",
    "#Interest rate = 3%\n",
    "r = 0.03\n",
    "\n",
    "#Volatility = 25%\n",
    "sigma = 0.25"
   ]
  },
  {
   "cell_type": "markdown",
   "metadata": {},
   "source": [
    "For illustration purposes and to be used as a reference, the following is a plot of the bull call spread solved numerically using the black scholes model before we start our monte carlo analysis."
   ]
  },
  {
   "cell_type": "code",
   "execution_count": null,
   "metadata": {},
   "outputs": [],
   "source": [
    "#BlackScholes Plot\n",
    "#setting list of stock prices we will calculate the spread value for\n",
    "\n",
    "S_plot_BS = np.arange(10,205,5)\n",
    "Npts = len(S_plot_BS)\n",
    "BSprice = np.zeros(Npts)\n",
    "#loop to calculate the price using BS Bull Call function in our python module\n",
    "for k in range(Npts):\n",
    "    BSprice[k] = BS_bull_call(S_plot_BS[k],K1,K2,T,r,sigma)\n",
    "    \n",
    "#Plotting    \n",
    "plt.plot(S_plot_BS, BSprice,marker = 'o', linestyle = '',color = 'r')\n",
    "plt.xlabel(\"Spot price S\", fontsize=\"14\")\n",
    "plt.ylabel(\"Bull Call Spread value\", fontsize=\"14\")\n",
    "plt.title(\"Bull Call Spread Price for various Spot Prices Using Black Scholes\")\n",
    "plt.show()"
   ]
  },
  {
   "cell_type": "markdown",
   "metadata": {},
   "source": [
    "# Naive Monte Carlo (No Variance Reduction)"
   ]
  },
  {
   "cell_type": "markdown",
   "metadata": {},
   "source": [
    "### Naive Monte Carlo "
   ]
  },
  {
   "cell_type": "code",
   "execution_count": null,
   "metadata": {},
   "outputs": [],
   "source": [
    "#Running naive montecarlo for asset prices from S = 10 to S = 200 in steps of 5 for an inital 1000 simulations.\n",
    "# N = number of simulations\n",
    "\n",
    "# S_plot = array of stock prices ranging from 10 to 200 inclusive in steps of 5\n",
    "S_plot = np.arange(10,205,5)\n",
    "\n",
    "#Npts is equal to the number of stock prices we will calculate the price of the bull call spread for\n",
    "Npts = len(S_plot)\n",
    "\n",
    "#Setting empty arrays for which the monte carlo bull call prices variances will be stored in for corresponding stock prices\n",
    "MC_price_naive = np.zeros(Npts)\n",
    "MC_var_naive = np.zeros(Npts)\n",
    "\n",
    "# Running 1000 simulations for each stock price in our S_plot array and calculating the price and variance of each.\n",
    "for k in range(Npts):\n",
    "    MC_price_naive[k], MC_var_naive[k] = MC_bull_call_naive(S_plot[k],K1,K2,T,r,sigma,N)\n",
    "    \n",
    "#For illustation purposes we will plot the bull call spread prices with 1000sims against S before doing anything else.\n",
    "\n",
    "plt.plot(S_plot,MC_price_naive , label = \"Naive\")\n",
    "\n",
    "plt.xlabel(\"Spot price S\")\n",
    "plt.ylabel(\"Bull Call Spread Price\")\n",
    "plt.title(\"Plot of bull call spread price for naive MC method \")\n",
    "plt.legend()\n",
    "plt.show()\n",
    "\n",
    "#Saving variances for later plots\n",
    "var_naive = MC_var_naive"
   ]
  },
  {
   "cell_type": "markdown",
   "metadata": {},
   "source": [
    "In order for the accuracy of the simulated prices to have a maximum absolute error of £0.01, we require N simulations, where N is determined by\n",
    "\n",
    "$$ ||V_{MC} - V||_{\\infty} = 0.01 \\geq 1.96\\frac{\\sigma_{M}}{\\sqrt{N}} $$\n",
    "\n",
    "$$ N \\geq \\left(\\frac{1.96\\sigma_{M}}{0.01}\\right)^2$$\n",
    "\n",
    "where we define $\\sigma_{M}$ as the maximum variance of the option price after a preliminary run of 1000 simulations. \n",
    "\n",
    "We use the max variance in this calculation so that we can achieve the required accuracy for every stock price ranging from £10 to £200 in steps of 5, by changing the number of simulations from our initial value of 1000 to our value of N defined above.\n",
    "\n",
    "To compare the four computation methods of our barrier option we will do this and determine a specific N for the naive MC method and for the three variance reduction techniques that will ensure absolute error or £0.01 across all methods."
   ]
  },
  {
   "cell_type": "code",
   "execution_count": null,
   "metadata": {},
   "outputs": [],
   "source": [
    "#Plotting Stock price vs variance for each MC calculation of the bull call spread.\n",
    "plt.plot(S_plot,MC_var_naive, label = \"Naive\")\n",
    "\n",
    "plt.xlabel(\"Spot price S\")\n",
    "plt.ylabel(\"Variance\")\n",
    "plt.title(\"Variance plot of bull call spread for naive MC method \")\n",
    "plt.legend()\n",
    "plt.show()\n",
    "    "
   ]
  },
  {
   "cell_type": "code",
   "execution_count": null,
   "metadata": {},
   "outputs": [],
   "source": [
    "# Use max variance to determine sample sizes according to our definition above\n",
    "# Setting the error to our required £0.01\n",
    "Error = 0.01\n",
    "\n",
    "#Max_var = SigmaM\n",
    "Max_var = np.amax(MC_var_naive)\n",
    "print(\"Max variance of naive MC is\", '{0:.5g}'.format(Max_var), '\\n')\n",
    "\n",
    "# work out N needed for Error < 0.01\n",
    "N = (1.96/Error)**2 * Max_var\n",
    "print(\"For Error =\", Error, \"the needed sample size is\", '{0:.2g}'.format(N),'\\n')\n",
    "\n",
    "#from our initial run the sample size is in the millions so it would make sense to see another decimal place of accuracy for illustration purposes\n",
    "print(\"For Error =\", Error, \"the needed sample size is\", '{0:.3g}'.format(N))\n",
    "\n",
    "\n",
    "#Saving Value for later\n",
    "Nnaive = N"
   ]
  },
  {
   "cell_type": "code",
   "execution_count": null,
   "metadata": {},
   "outputs": [],
   "source": [
    "# Testing for a single value of the stock price in the region where the max variance occurred as a check that we\n",
    "# are after successfully reducing the standard error\n",
    "\n",
    "# Test parameters\n",
    "S = 109 #Note how roughly a stock price of 110 results in the maximum variance in the variance plot\n",
    "\n",
    "#Our New sample size N as defined above (must be a whole number)\n",
    "N = int((1.96/Error)**2 * Max_var)\n",
    "\n",
    "MC_price_naive, MC_var_naive = MC_bull_call_naive(S,K1,K2,T,r,sigma,N)\n",
    "\n",
    "SE = np.sqrt(MC_var_naive/N)\n",
    "\n",
    "print(\"Naive MC price is \", '£{0:.5g}'.format(MC_price_naive), \"+/-\", '£{0:.2g}'.format(1.96*SE) )\n",
    "\n",
    "print(\"Standard Error = \",'£{0:.2g}'.format(SE))\n",
    "\n"
   ]
  },
  {
   "cell_type": "code",
   "execution_count": null,
   "metadata": {},
   "outputs": [],
   "source": [
    "#Now with our new sample size of N, we will price the spread using the naive monte carlo method (takes a few seconds due to using 6m sims)\n",
    "\n",
    "\n",
    "S_plot = np.arange(10,205,5)\n",
    "\n",
    "Npts = len(S_plot)\n",
    "price_plot_naive = np.zeros( Npts )\n",
    "var_plot_naive = np.zeros( Npts )\n",
    "\n",
    "\n",
    "for k in range(Npts):\n",
    "    price_plot_naive[k], var_plot_naive[k] = MC_bull_call_naive(S_plot[k],K1,K2,T,r,sigma,N)\n",
    "\n",
    "# plot the 95% confidence interval as a shaded region (not noticeable as our Error is so small)\n",
    "SEM = np.sqrt(var_plot_naive/N)\n",
    "plt.fill_between(S_plot, price_plot_naive - 1.96*SEM, price_plot_naive + 1.96*SEM, \n",
    "                 alpha=0.5, color=\"darkorange\")\n",
    "\n",
    "# plot the MC Prices\n",
    "plt.plot(S_plot, price_plot_naive,'-b',label = 'Naive MC')\n",
    "\n",
    "#Overlay the BS Price\n",
    "plt.plot(S_plot_BS, BSprice,marker = 'o', linestyle = '',color = 'r',alpha = 0.35, label = \"Black-Scholes\")\n",
    "\n",
    "\n",
    "\n",
    "\n",
    "plt.xlabel(\"Spot price S at time = T\", fontsize=\"14\")\n",
    "plt.ylabel(\"Bull Call Spread value\", fontsize=\"14\")\n",
    "plt.title(\"Naive MC Bull Call Spread Price for various Spot Prices\")\n",
    "plt.legend()\n",
    "plt.show()\n",
    "\n"
   ]
  },
  {
   "cell_type": "markdown",
   "metadata": {},
   "source": [
    "We will now repeat this process for the three types of variance reduction"
   ]
  },
  {
   "cell_type": "markdown",
   "metadata": {},
   "source": [
    "# Monte Carlo With Antithetic Variance Reduction"
   ]
  },
  {
   "cell_type": "markdown",
   "metadata": {},
   "source": [
    "As before we will investigate the variance plot and the max variance resulting from an initial 1000 simulations over stock prices of £10 to £200 in steps of 5 and determine our new sample size N to have a maximum absolute error of £0.01"
   ]
  },
  {
   "cell_type": "code",
   "execution_count": null,
   "metadata": {},
   "outputs": [],
   "source": [
    "# Antithetic variance reduciton\n",
    "# Resetting N back to our original 1000\n",
    "#Plotting the variance for 1000 sims initally\n",
    "N = 1000\n",
    "S_plot = np.arange(10,205,5)\n",
    "Npts = len(S_plot)\n",
    "MC_price_ant = np.zeros(Npts)\n",
    "MC_var_ant = np.zeros(Npts)\n",
    "\n",
    "\n",
    "for k in range(Npts):\n",
    "    MC_price_ant, MC_var_ant[k] = MC_bull_call_ant(S_plot[k],K1,K2,T,r,sigma,N)\n",
    "\n",
    "plt.plot(S_plot,MC_var_ant, label = \"Antithetic\")\n",
    "\n",
    "plt.xlabel(\"Spot price S\")\n",
    "plt.ylabel(\"Variance\")\n",
    "plt.title(\"Variance plot for Antithetic MC method \")\n",
    "plt.legend()\n",
    "plt.show()\n",
    "\n",
    "#Saving variances for later plots\n",
    "var_ant = MC_var_ant"
   ]
  },
  {
   "cell_type": "code",
   "execution_count": null,
   "metadata": {},
   "outputs": [],
   "source": [
    "# Use max variance to determine sample sizes\n",
    "Error = 0.01\n",
    "\n",
    "Max_var = np.amax(MC_var_ant)\n",
    "print(\"Max variance of naive is\",'{0:.4g}'.format(Max_var))\n",
    "\n",
    "# work out N needed for Error < 0.01\n",
    "N = (1.96/Error)**2 * Max_var\n",
    "print(\"For Error =\", Error, \"the needed sample size is\", '{0:.3g}'.format(N))\n"
   ]
  },
  {
   "cell_type": "code",
   "execution_count": null,
   "metadata": {},
   "outputs": [],
   "source": [
    "# Setting parameters \n",
    "S = 138 # Note how roughly a stock price of ~128 for antithetic method results in the maximum variance\n",
    "\n",
    "# Our new N\n",
    "N = int((1.96/Error)**2 * Max_var)\n",
    "\n",
    "MC_price_ant, MC_var_ant = MC_bull_call_ant(S,K1,K2,T,r,sigma,N)\n",
    "\n",
    "SE = np.sqrt(MC_var_ant/N)\n",
    "\n",
    "print(\"Naive MC price is \", '£{0:.5g}'.format(MC_price_ant), \"+/-\", '£{0:.2g}'.format(1.96*SE) )\n",
    "\n",
    "print(\"Standard Error = \",'£{0:.1g}'.format(SE))\n",
    "\n",
    "#Saving Value for later\n",
    "Nant = N"
   ]
  },
  {
   "cell_type": "code",
   "execution_count": null,
   "metadata": {},
   "outputs": [],
   "source": [
    "#Now with our new sample size of N, we will price the spread using antithetic variance reduction\n",
    "\n",
    "S_plot = np.arange(10,205,5)\n",
    "\n",
    "# Our new N\n",
    "N = int((1.96/Error)**2 * Max_var)\n",
    "\n",
    "Npts = len(S_plot)\n",
    "price_plot_ant = np.zeros( Npts )\n",
    "var_plot_ant = np.zeros( Npts )\n",
    "\n",
    "#Calculating prices with antithetic variance reduction \n",
    "for k in range(Npts):\n",
    "    price_plot_ant[k], var_plot_ant[k] = MC_bull_call_ant(S_plot[k],K1,K2,T,r,sigma,N)\n",
    "\n",
    "\n",
    "\n",
    "# plot the 95% confidence interval as a shaded region\n",
    "SEM = np.sqrt(var_plot_ant/N)\n",
    "plt.fill_between(S_plot, price_plot_ant - 1.96*SEM, price_plot_ant + 1.96*SEM, \n",
    "                 alpha=0.5, color=\"darkorange\")\n",
    "\n",
    "# plot the prices\n",
    "plt.plot(S_plot, price_plot_ant,'-b',label = 'Antithetic')\n",
    "\n",
    "\n",
    "#Overlay the BS Price\n",
    "plt.plot(S_plot_BS, BSprice ,marker = 'o', linestyle = '',color = 'r',alpha = 0.35, label = \"Black-Scholes\")\n",
    "\n",
    "\n",
    "\n",
    "\n",
    "plt.xlabel(\"Spot price S at time = T\", fontsize=\"14\")\n",
    "plt.ylabel(\"Bull Call Spread value\", fontsize=\"14\")\n",
    "plt.title(\"MC w/ Antithetic Variance Reduction Bull Call Spread Price\")\n",
    "plt.legend()\n",
    "plt.show()"
   ]
  },
  {
   "cell_type": "markdown",
   "metadata": {},
   "source": [
    "## Control Variates\n",
    "\n",
    "The key aspect of using control variates to price options is to find another function $g(y)$ that is highly correlated with $f(y)$, but we know and can calculate the expectation of $g$. We do this becasue we want our sample mean of option prices to be an accurate estimation to the true mean of the payoff. In our case in order to find a function that was highly correlated with the payoff of a bull call spread, $f(S(T))$ we simply use the stock price $S(T)$\n",
    "\n",
    "Having determined that $g(S(T))$ = $S(T)$ which is the geometric Brownian Motion, the mean and variance is known and are as follows:\n",
    "\n",
    "<center> $$\\bar g := \\mathbb{E}[S(T)] = S(t)exp(rT)$$ </center>\n",
    "\n",
    "<center> $$Var(g) := Var[S(T)] = (S(t)exp(rT))^2 (exp(\\sigma^2T)-1) = \\bar g^2(exp(\\sigma^2T)-1)$$ </center>\n",
    "\n",
    "With our control variate defined as \n",
    "<center> $$f_{c}(y) = f(y) -c(g(y) - \\bar g)$$ </center>\n",
    "\n",
    "Expectation of control variate:\n",
    "\n",
    "<center> $$\\mathbb{E}[f_{c}] = \\mathbb{E}[f] - c(\\mathbb{E}[g] - \\bar g) = \\mathbb{E}[f]$$ </center>\n",
    "\n",
    "Hence variance of control variate:\n",
    "\n",
    "<center> $$Var[f_{c}] = Var[f] - 2cCov[f,g] + c^2Var[g]$$ </center>\n",
    "\n",
    "Then the optimal choice of c to minimise $var[f_c]$ is found by differentiating with respect to c and settting to zero.\n",
    "\n",
    "Hence:\n",
    "\n",
    "<center> $$ c = \\frac{Cov[f,g]}{Var[g]}$$ </center>\n",
    "    \n",
    "Substituting this c into our original equation for the variance of $f_c$ gives the variance of the payoff as:\n",
    "  \n",
    "<center> $$Var[f_c] = Var[f](1-corr[f,g]^2)$$ </center>\n",
    "\n",
    "\n",
    "Which shows us that if $g$ is highly correlated (or anti-correlated) to $f$ then the variance of $f_c$ will be small. The variance of $f_c$ will be zero in the case of perfect correlation or anti-correlation.\n",
    "\n",
    "We will use this method and apply it to the case of the bull call spread."
   ]
  },
  {
   "cell_type": "markdown",
   "metadata": {},
   "source": [
    "## Monte Carlo With Variance Reduction Using Control Variates"
   ]
  },
  {
   "cell_type": "code",
   "execution_count": null,
   "metadata": {},
   "outputs": [],
   "source": [
    "# Resetting N and investigating max variance and variance plot as before\n",
    "N = 1000\n",
    "S_plot = np.arange(10,205,5)\n",
    "Npts = len(S_plot)\n",
    "MC_price_con = np.zeros(Npts)\n",
    "MC_var_con = np.zeros(Npts)\n",
    "\n",
    "#Calculating prices with MC with control variates\n",
    "for k in range(Npts):\n",
    "    MC_price_con, MC_var_con[k] = MC_bull_call_con(S_plot[k],K1,K2,T,r,sigma,N)\n",
    "\n",
    "plt.plot(S_plot,MC_var_con, label = \"Control Variates\")\n",
    "\n",
    "plt.xlabel(\"Spot price S\",fontsize=\"14\")\n",
    "plt.ylabel(\"Variance\",fontsize=\"14\")\n",
    "plt.title(\"Variance plot for Control Variates MC method \")\n",
    "plt.legend()\n",
    "plt.show()\n",
    "\n",
    "var_con = MC_var_con"
   ]
  },
  {
   "cell_type": "code",
   "execution_count": null,
   "metadata": {},
   "outputs": [],
   "source": [
    "# Use max variance to determine sample sizes\n",
    "Error = 0.01\n",
    "\n",
    "Max_var = np.amax(MC_var_con)\n",
    "print(\"Max variance of naive is\", '{0:.4g}'.format(Max_var))\n",
    "\n",
    "# work out N needed for Error < 0.01\n",
    "N = (1.96/Error)**2 * Max_var\n",
    "print(\"For Error =\", Error, \"the needed sample size is\", '{0:.3g}'.format(N))\n",
    "\n",
    "#Saving Value for later\n",
    "Ncon = N"
   ]
  },
  {
   "cell_type": "code",
   "execution_count": null,
   "metadata": {},
   "outputs": [],
   "source": [
    "#Test again\n",
    "# Setting parameters\n",
    "S = 130\n",
    "N = int((1.96/Error)**2 * Max_var)\n",
    "\n",
    "\n",
    "\n",
    "MC_price_con, var_plot_con = MC_bull_call_con(S,K1,K2,T,r,sigma,N)\n",
    "\n",
    "SE = np.sqrt(var_plot_con/N)\n",
    "print(\"Naive MC price is \", '£{0:.5g}'.format(MC_price_con), \"+/-\", '£{0:.2g}'.format(1.96*SE) )\n",
    "\n",
    "print(\"Standard Error = \",'£{0:.1g}'.format(SE))"
   ]
  },
  {
   "cell_type": "code",
   "execution_count": null,
   "metadata": {},
   "outputs": [],
   "source": [
    "#Plotting with our new sample size\n",
    "\n",
    "N = int((1.96/Error)**2 * Max_var)\n",
    "\n",
    "S_plot = np.arange(10,205,5)\n",
    "Npts = len(S_plot)\n",
    "price_plot_con = np.zeros( Npts )\n",
    "var_plot_con = np.zeros( Npts )\n",
    "\n",
    "startc = timeit.timeit()\n",
    "\n",
    "for k in range(Npts):\n",
    "    price_plot_con[k], var_plot_con[k] = MC_bull_call_con(S_plot[k],K1,K2,T,r,sigma,N)\n",
    "\n",
    "endc = timeit.timeit()\n",
    "timec = endc-startc\n",
    "# plot the 95% confidence interval as a shaded region\n",
    "SEM = np.sqrt(var_plot_con/N)\n",
    "plt.fill_between(S_plot, price_plot_con - 1.96*SEM, price_plot_con + 1.96*SEM, \n",
    "                 alpha=0.5, color=\"darkorange\")\n",
    "\n",
    "# plot the MC Control Var Prices\n",
    "plt.plot(S_plot, price_plot_con,'-b',label = 'Control Variate MC')\n",
    "\n",
    "#Overlay the BS Price\n",
    "plt.plot(S_plot_BS, BSprice,marker = 'o', linestyle = '',color = 'r',alpha = 0.35, label = \"Black-Scholes\")\n",
    "\n",
    "\n",
    "plt.xlabel(\"Spot price S\", fontsize=\"14\")\n",
    "plt.ylabel(\"Bull Call Spread value\", fontsize=\"14\")\n",
    "plt.title(\"Bull Call Spread Price for various Spot Prices Using Control Variates\")\n",
    "plt.legend()\n",
    "plt.show()"
   ]
  },
  {
   "cell_type": "markdown",
   "metadata": {},
   "source": [
    "## Importance Sampling\n",
    "\n",
    "From the usual monte carlo framework, we view an integral as an expectation.\n",
    "\n",
    "Where $Y$ is a uniformly distributed random variable.\n",
    "\n",
    "Importance sampling utilises that instead of drawing samples from a uniform distribution, we can get a better estime for if we draw samples from a distribution that favours parts of the space where $f(Y)$ is large.\n",
    "In essence we are chaging the probability measure over which we integrate.\n",
    "\n",
    "\n",
    "In our case for using importance sampling for pricing options we deem the option price to be \"important\" when it is non-zero. As we are pricing a bull call spread whose pay-off is zero when it is not excercised which occurs when $S(T) < K_1$\n",
    "With $K_1$ = £90, hence we will deem the range of $S(T)$ to be important when it is greater than or equal to £90\n",
    "\n",
    "Writing the corresponding stock price and option price as follows:\n",
    "$$S(T) = S(t)exp((r-\\frac{1}{2}\\sigma^2)T +\\sigma\\sqrt{T-t}\\Phi^{-1}(Y))$$\n",
    "\n",
    "$$V(S(T)) = \\mathbb{E}[S(T)] = \\int_{0}^{1}f(S(T,y))p_{1}(y)dy  = \\int_{y_1}^{1}f(S(T,y))p_{1}(y)dy$$\n",
    "\n",
    "Where $\\Phi$ is the standard normal CDF, $y_1$ is defined implictly by \n",
    "\n",
    "$$S_{T}(y_{1}) = K $$\n",
    "\n",
    "Now we want to condsider $p_2(y)$, the pdf for the uniform distribution on $[y_1,1]$ instead of $p_1$, the the standard uniform distribution.\n",
    "\n",
    "$$ p_{2}(y) \\begin{cases}\n",
    "      \\frac{1}{1-y_1}, & y_1\\leq y \\leq 1 \n",
    "      0, & 0 \\leq y \\leq y_1\n",
    "    \\end{cases}$$\n",
    "    \n",
    "Then\n",
    "\n",
    "$$ V = \\int_{y_1}^{1} f(S_T(y))\\frac{p_1(y)}{p_2(y)}p_2(y)dy $$\n",
    "\n",
    "  $$  = (1-y_1)\\int_{y_1}^{1} f(S_T(y))p_2(y)dy$$\n",
    "  \n",
    "By restricting the integral to $[y_1,1]$ we have removed the portion of the interval where $p_2$ would be zero. The factor $(1-y_1)$ is needed to account for the fact that we have changed probability measures from the uniform on $[0,1]$ to the uniform on $[y_1,1]$\n",
    "\n",
    "We will use this general method to price the bull call spread.\n"
   ]
  },
  {
   "cell_type": "markdown",
   "metadata": {},
   "source": [
    "### Monte Carlo With Variance Reduction Using Importance Sampling"
   ]
  },
  {
   "cell_type": "code",
   "execution_count": null,
   "metadata": {},
   "outputs": [],
   "source": [
    "#Reset N\n",
    "\n",
    "N = 1000\n",
    "S_plot = np.arange(10,205,5)\n",
    "Npts = len(S_plot)\n",
    "MC_price_imp = np.zeros(Npts)\n",
    "MC_var_imp = np.zeros(Npts)\n",
    "\n",
    "\n",
    "for k in range(Npts):\n",
    "    MC_price_imp, MC_var_imp[k] = MC_bull_call_imp(S_plot[k],K1,K2,T,r,sigma,N)\n",
    "\n",
    "plt.plot(S_plot,MC_var_imp, label = \"Importance Sampling\")\n",
    "\n",
    "plt.xlabel(\"Spot price S\",fontsize=\"14\")\n",
    "plt.ylabel(\"Variance\",fontsize=\"14\")\n",
    "plt.title(\"Variance plot for Importance Sampling MC method \")\n",
    "plt.legend()\n",
    "plt.show()\n",
    "var_imp = MC_var_imp"
   ]
  },
  {
   "cell_type": "code",
   "execution_count": null,
   "metadata": {},
   "outputs": [],
   "source": [
    "# Use max variance to determine sample sizes\n",
    "Error = 0.01\n",
    "\n",
    "Max_var = np.amax(MC_var_imp)\n",
    "print(\"Max variance of importance sampling MC is\", '{0:.5g}'.format(Max_var),\"\\n\")\n",
    "\n",
    "# work out N needed for Error < 0.01\n",
    "N = (1.96/Error)**2 * Max_var\n",
    "print(\"For Error =\", Error, \"the needed sample size is\", '{0:.3g}'.format(N))\n"
   ]
  },
  {
   "cell_type": "code",
   "execution_count": null,
   "metadata": {},
   "outputs": [],
   "source": [
    "#Test again\n",
    "# Setting parameters\n",
    "S = 128\n",
    "N = int((1.96/Error)**2 * Max_var)\n",
    "\n",
    "MC_price_imp, MC_price_imp= MC_bull_call_imp(S,K1,K2,T,r,sigma,N)\n",
    "\n",
    "SE = np.sqrt(MC_price_imp/N)\n",
    "print(\"Naive MC price is £\", '{0:.5g}'.format(MC_price_imp), \"+/-\", '{0:.2g}'.format(1.96*SE) )\n",
    "\n",
    "print(\"Standard Error = \",'£{0:.1g}'.format(SE))\n",
    "\n",
    "#Saving Value for later\n",
    "Nimp = N"
   ]
  },
  {
   "cell_type": "code",
   "execution_count": null,
   "metadata": {},
   "outputs": [],
   "source": [
    "#Now with our new sample size of N, we will price the spread using antithetic variance reduction\n",
    "\n",
    "S_plot = np.arange(10,205,5)\n",
    "Npts = len(S_plot)\n",
    "price_plot_imp = np.zeros( Npts )\n",
    "var_plot_imp = np.zeros( Npts )\n",
    "\n",
    "starti = timeit.timeit()\n",
    "for k in range(Npts):\n",
    "    price_plot_imp[k], var_plot_imp[k] = MC_bull_call_imp(S_plot[k],K1,K2,T,r,sigma,N)\n",
    "\n",
    "endi = timeit.timeit()\n",
    "timei = endi-starti\n",
    "\n",
    "    \n",
    "# plot the 95% confidence interval as a shaded region\n",
    "SEM = np.sqrt(var_plot_imp/N)\n",
    "plt.fill_between(S_plot, price_plot_imp - 1.96*SEM, price_plot_imp + 1.96*SEM, \n",
    "                 alpha=0.5, color=\"darkorange\")\n",
    "\n",
    "# plot the mean\n",
    "plt.plot(S_plot, price_plot_imp,'-b', label = 'Importance Sampling MC')\n",
    "\n",
    "\n",
    "#Overlay the BS Price\n",
    "plt.plot(S_plot_BS, BSprice ,marker = 'o', linestyle = '',color = 'r',alpha = 0.35, label = \"Black-Scholes\")\n",
    "\n",
    "plt.xlabel(\"Spot price S\", fontsize=\"14\")\n",
    "plt.ylabel(\"Bull Call Spread value\", fontsize=\"14\")\n",
    "plt.title(\"Bull Call Spread Price for various Spot Prices Using Importance Sampling\")\n",
    "plt.legend()\n",
    "plt.show()"
   ]
  },
  {
   "cell_type": "markdown",
   "metadata": {},
   "source": [
    "The following plot displays the variances of the four different methods used to calculate the price of the bull call spread according to the different stock prices. As we can see the three variance reduction techniques significantly reduce the variance of our prices."
   ]
  },
  {
   "cell_type": "code",
   "execution_count": null,
   "metadata": {},
   "outputs": [],
   "source": [
    "plt.figure(figsize = (7,7))\n",
    "\n",
    "plt.plot(S_plot,var_naive, label = \"Naive\")\n",
    "plt.plot(S_plot,var_ant, label = \"Antithetic\")\n",
    "plt.plot(S_plot,var_imp, label = \"Importance Sampling\")\n",
    "plt.plot(S_plot,var_con, label = \"Control Variates\")\n",
    "\n",
    "\n",
    "\n",
    "plt.xlabel(\"Spot price S\",fontsize=\"14\")\n",
    "plt.ylabel(\"Variance\",fontsize=\"14\")\n",
    "plt.title(\"Variance plot for all MC methods\")\n",
    "plt.legend()\n",
    "plt.show()"
   ]
  },
  {
   "cell_type": "markdown",
   "metadata": {},
   "source": [
    "### Variance Reduction Discussion"
   ]
  },
  {
   "cell_type": "markdown",
   "metadata": {},
   "source": [
    "Looking the graph above before calculating the sample sizes needed for the 4 methods to have an absolute error of £0.01 would suggest that the Antithetic variance reduction would require less iterations thus being more efficient than the other three methods.\n",
    "\n",
    "Below presents the sample sizes needed for our required accuracy of £0.01 for the four methods and their corresponding N iterations to price the bull call spread for the same range of stock prices."
   ]
  },
  {
   "cell_type": "markdown",
   "metadata": {},
   "source": [
    "|| Naive | Antithetic | Control Variates | Importance Sampling |\n",
    "| :-:| :-: | :-: |:-:|:-: |\n",
    "|Required Sample Size |6.08 x 10^6| 1.21 x 10^6 |2.02 x 10^6| 1.96x 10^6 |\n"
   ]
  },
  {
   "cell_type": "markdown",
   "metadata": {},
   "source": [
    "----------\n",
    "## Delta\n",
    "\n",
    "To compute the delta we will use a combination of path recycling and antithetic variance reduction. We use path recycling as opposed to standard finite difference methods because the variance of the standard finite differencing methods can be large, and can cause problems if the change in the parameter theta tends to zero.\n",
    "\n",
    "We consider the centered finite difference approach as follows :\n",
    "\n",
    "$$ \\frac{\\partial V}{\\partial \\theta} (\\theta_j) = \\frac{V_{j+1} - V_{j-1}}{2\\Delta\\theta} + \\mathcal{O}(\\Delta\\theta^2) $$\n",
    "\n",
    "Where $\\Delta\\theta$ = $\\theta_{j+1} - \\theta{j}$ is constant for all values.\n",
    "\n",
    "Hence we use the same sample $X_1,.....,X_i,....$ to compute both $ V_{j+1}$ and $ V_{j-1}$ Their correlation will then no longer be zero this is the key idea in path recyling.\n",
    "\n",
    "So we have:\n",
    "\n",
    "$$ Var\\left[\\frac{V_{j+1} - V_{j-1}}{2\\Delta\\theta}\\right] \\approx Var\\left[\\frac{dV}{d\\theta}\\theta_j \\right] $$\n",
    "\n",
    "Where the variance on the right-hand-side is the variance in a sample mean of the derivative we are trying to approximate. We will then combine this pathrecycling method with antithetic variance reduction techniques which we are familiar with.\n",
    "\n",
    "We could also compute the delta using pathwise derivatives with antithetic variance reduction or using likelihood ratio methods but these methods can get complicated for more exotic and complicated options where the formula for the derivative isnt easily calculated analytically. But one useful feature of using likelihood ratio methods is that it can be used in cases where the option payoff is discontinuous.\n",
    "\n"
   ]
  },
  {
   "cell_type": "code",
   "execution_count": null,
   "metadata": {},
   "outputs": [],
   "source": [
    "#Reset N\n",
    "N = 1000\n",
    "\n",
    "S_plot = np.arange(10,205,5)\n",
    "Npts = len(S_plot)\n",
    "BSprice = np.zeros(Npts)\n",
    "MC_delta_ant_path = np.zeros(Npts)\n",
    "MC_var_delta_ant_path = np.zeros(Npts)\n",
    "for k in range(Npts):\n",
    "    BSprice[k] = BS_bull_call_delta(S_plot[k],K1,K2,T,r,sigma)\n",
    "    MC_delta_ant_path[k], MC_var_delta_ant_path[k] = MC_bull_call_delta_ant_path(S_plot[k],K1,K2,T,r,sigma,N)\n",
    "\n",
    "plt.plot(S_plot,MC_delta_ant_path, label = \"MC Path Delta\")\n",
    "\n",
    "plt.xlabel(\"Spot price S\",fontsize=\"14\")\n",
    "plt.ylabel(\"Variance\",fontsize=\"14\")\n",
    "\n",
    "plt.plot(S_plot_BS, BSprice,marker = 'o', linestyle = '',color = 'r',label = \"BS\",alpha = 0.4)\n",
    "\n",
    "plt.xlabel(\"Spot price S\", fontsize=\"14\")\n",
    "plt.ylabel(\"Bull Call Spread Delta\", fontsize=\"14\")\n",
    "plt.title(\"Plot of Bull Call Spread Deltas\")\n",
    "plt.legend()\n",
    "plt.show()\n"
   ]
  },
  {
   "cell_type": "markdown",
   "metadata": {},
   "source": [
    "## Exploratoratory Analysis"
   ]
  },
  {
   "cell_type": "markdown",
   "metadata": {},
   "source": [
    "First we will look at how the the option price vary with a variety of maturity times T, using Antithetic Variance reduction as our MC method of choice."
   ]
  },
  {
   "cell_type": "code",
   "execution_count": null,
   "metadata": {},
   "outputs": [],
   "source": [
    "#Now with our new sample size of N, we will price the spread using antithetic variance reduction\n",
    "#Setting our maturity times from 0.5 years to 3 years\n",
    "T_s = [0.5,1.0,1.5,2.5,3.5,4,4.5,5,10]\n",
    "\n",
    "S_plot = np.arange(0,205,1)\n",
    "Ncols = len(T_s)\n",
    "q = np.arange(0,Ncols,1)\n",
    "Npts = len(S_plot)\n",
    "#arrays to store contract prices for each maturity time\n",
    "price_plot_ant = np.zeros([Npts,Ncols])\n",
    "var_plot_ant = np.zeros([Npts,Ncols])\n",
    "\n",
    "for i in q:\n",
    "    T = T_s[i]\n",
    "    for k in range(Npts):\n",
    "        price_plot_ant[k,i], var_plot_ant[k,i] = MC_bull_call_ant(S_plot[k],K1,K2,T,r,sigma,N)\n",
    "    \n",
    "    plt.plot(S_plot,price_plot_ant[:,i], label = 'T =' + str(T) + '')\n",
    "\n",
    "\n",
    "\n",
    "plt.xlabel(\"Spot price S\" ,fontsize=\"14\")\n",
    "plt.ylabel(\"Bull Call Spread value\", fontsize=\"14\")\n",
    "plt.title(\"Bull Call Spread Price for different maturity times T\")\n",
    "plt.legend()\n",
    "plt.show()\n"
   ]
  },
  {
   "cell_type": "markdown",
   "metadata": {},
   "source": [
    "Surface Plot for the same times to maturity T for illustration."
   ]
  },
  {
   "cell_type": "code",
   "execution_count": null,
   "metadata": {},
   "outputs": [],
   "source": [
    "fig = plt.figure()\n",
    "ax = fig.gca(projection='3d')\n",
    "x = np.arange(0,205,1)\n",
    "y = [0.5,1.0,1.5,2.5,3.5,4,4.5,5,10]\n",
    "#create mesh grid of times and stock prices\n",
    "X, Y = np.meshgrid(y,x)\n",
    "zs = price_plot_ant\n",
    "z = ax.plot_surface(X,Y,zs, cmap=cm.coolwarm,\n",
    "                       linewidth=0, antialiased=False)\n",
    "\n",
    "\n",
    "ax.view_init(40 ,-30 )\n",
    "ax.set_xlabel(\"Time To Expiry\")\n",
    "ax.set_ylabel(\"Spot Price\")\n",
    "ax.set_zlabel(\"Value of Contract\")\n",
    "\n",
    "plt.title(\"Surface Plot of Bull Call Spread for various Expiry Times\")\n",
    "plt.show()"
   ]
  },
  {
   "cell_type": "markdown",
   "metadata": {},
   "source": [
    "### We will repeat the above for the delta of the option\n"
   ]
  },
  {
   "cell_type": "code",
   "execution_count": null,
   "metadata": {},
   "outputs": [],
   "source": [
    "#Now with our new sample size of N, we will price the spread using antithetic variance reduction\n",
    "#Setting our maturity times from 0.5 years to 3 years\n",
    "T_s = [0.5,1.0,1.5,2.5,3.5,4,4.5,5,10]\n",
    "\n",
    "S_plot = np.arange(10,205,5)\n",
    "Ncols = len(T_s)\n",
    "q = np.arange(0,Ncols,1)\n",
    "Npts = len(S_plot)\n",
    "price_plot_d_p = np.zeros([Npts,Ncols])\n",
    "var_plot_d_p = np.zeros([Npts,Ncols])\n",
    "\n",
    "for i in q:\n",
    "    T = T_s[i]\n",
    "    for k in range(Npts):\n",
    "        price_plot_d_p[k,i], var_plot_d_p[k,i] = MC_bull_call_delta_ant_path(S_plot[k],K1,K2,T,r,sigma,N)\n",
    "    \n",
    "    plt.plot(S_plot,price_plot_d_p[:,i], label = 'T =' + str(T) + '')\n",
    "\n",
    "\n",
    "\n",
    "plt.xlabel(\"Spot price S\" ,fontsize=\"14\")\n",
    "plt.ylabel(\"Bull Call Spread value\", fontsize=\"14\")\n",
    "plt.title(\"Bull Call Spread Delta for different maturity times T\")\n",
    "plt.legend()\n",
    "plt.show()\n",
    "\n"
   ]
  },
  {
   "cell_type": "code",
   "execution_count": null,
   "metadata": {},
   "outputs": [],
   "source": [
    "fig = plt.figure()\n",
    "ax = fig.gca(projection='3d')\n",
    "x = np.arange(10,205,5)\n",
    "y = [0.5,1.0,1.5,2.5,3.5,4,4.5,5,10]\n",
    "X, Y = np.meshgrid(y,x)\n",
    "zs = price_plot_d_p\n",
    "z = ax.plot_surface(X,Y,zs, cmap=cm.coolwarm,\n",
    "                       linewidth=0, antialiased=False)\n",
    "\n",
    "\n",
    "ax.view_init(20 ,-30)\n",
    "ax.set_xlabel(\"Time To Expiry\")\n",
    "ax.set_ylabel(\"Spot Price\")\n",
    "ax.set_zlabel(\"Delta\")\n",
    "\n",
    "plt.title(\"Surface Plot of Bull Call Spread Delta for various Expiry Times\")\n",
    "plt.show()"
   ]
  },
  {
   "cell_type": "markdown",
   "metadata": {},
   "source": [
    "## Discussion"
   ]
  },
  {
   "cell_type": "markdown",
   "metadata": {},
   "source": [
    "From our analysis of our different monte carlo methods, using antithetic variance reduction performed the best in terms of needing the smallest sample size of all the methods to have a maxiumum absolute error of 0.01 hence the variance reduction performed the best here. With the smaller sample size this method will also be faster than the other methods which can be important in a high frequency trading setting where speed and accuracy is essential. \n",
    "\n",
    "In our exploratory analysis we see how that the longer the maturity time, the lower the delta of the contract for the same spot prices, which makes sense as the change in the option value will fluctuate less if there is a longer time to maturity. However when the spot price is far lower than the first strike price K1 we notice how the option with maturity time 10 has a higher price than that of contracts with a smaller time to maturity. This is because there is more time for the spot price to move in a direction that would bring the option in the money for us, but as the spot price gets closer to K1 the shorter maturity time contracts start to become more valuable. (This may not always be true however depending on how large sigma (volatility) is"
   ]
  }
 ],
 "metadata": {
  "kernelspec": {
   "display_name": "Python 3",
   "language": "python",
   "name": "python3"
  },
  "language_info": {
   "codemirror_mode": {
    "name": "ipython",
    "version": 3
   },
   "file_extension": ".py",
   "mimetype": "text/x-python",
   "name": "python",
   "nbconvert_exporter": "python",
   "pygments_lexer": "ipython3",
   "version": "3.8.3"
  }
 },
 "nbformat": 4,
 "nbformat_minor": 4
}
